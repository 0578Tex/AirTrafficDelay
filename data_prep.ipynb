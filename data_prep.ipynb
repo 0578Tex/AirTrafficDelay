{
 "cells": [
  {
   "cell_type": "code",
   "execution_count": 1,
   "metadata": {},
   "outputs": [],
   "source": [
    "%load_ext autoreload\n",
    "%autoreload 2\n",
    "\n",
    "from DDR import process_ddr\n",
    "import pandas as pd\n",
    "import dill as pickle\n",
    "from datetime import datetime\n",
    "from data_prep import get_efd_rf\n",
    "from updates import prepare_dataset_with_updates\n",
    "from tqdm import tqdm"
   ]
  },
  {
   "cell_type": "code",
   "execution_count": 2,
   "metadata": {},
   "outputs": [],
   "source": [
    "archive = r\"C:\\Users\\iLabs_6\\Documents\\Tex\\allwithCBAS\\ddrunpacked_full2.csv\"\n",
    "capacity_df = pd.read_csv(archive)"
   ]
  },
  {
   "cell_type": "code",
   "execution_count": 3,
   "metadata": {},
   "outputs": [
    {
     "name": "stderr",
     "output_type": "stream",
     "text": [
      "  0%|          | 0/57 [00:00<?, ?it/s]"
     ]
    },
    {
     "name": "stdout",
     "output_type": "stream",
     "text": [
      "i=0  file='chunk0.pkl'\n"
     ]
    },
    {
     "name": "stderr",
     "output_type": "stream",
     "text": [
      "  2%|▏         | 1/57 [08:39<8:04:58, 519.62s/it]"
     ]
    },
    {
     "name": "stdout",
     "output_type": "stream",
     "text": [
      "i=1  file='chunk1.pkl'\n"
     ]
    },
    {
     "name": "stderr",
     "output_type": "stream",
     "text": [
      "  4%|▎         | 2/57 [18:31<8:35:25, 562.28s/it]"
     ]
    },
    {
     "name": "stdout",
     "output_type": "stream",
     "text": [
      "i=2  file='chunk10.pkl'\n"
     ]
    },
    {
     "name": "stderr",
     "output_type": "stream",
     "text": [
      "  5%|▌         | 3/57 [21:19<5:43:55, 382.14s/it]"
     ]
    },
    {
     "name": "stdout",
     "output_type": "stream",
     "text": [
      "i=3  file='chunk11.pkl'\n"
     ]
    },
    {
     "name": "stderr",
     "output_type": "stream",
     "text": [
      "  7%|▋         | 4/57 [21:56<3:37:04, 245.74s/it]"
     ]
    },
    {
     "name": "stdout",
     "output_type": "stream",
     "text": [
      "i=4  file='chunk2.pkl'\n"
     ]
    },
    {
     "name": "stderr",
     "output_type": "stream",
     "text": [
      "  9%|▉         | 5/57 [32:42<5:38:02, 390.05s/it]"
     ]
    },
    {
     "name": "stdout",
     "output_type": "stream",
     "text": [
      "i=5  file='chunk3.pkl'\n"
     ]
    },
    {
     "name": "stderr",
     "output_type": "stream",
     "text": [
      " 11%|█         | 6/57 [46:05<7:30:54, 530.48s/it]"
     ]
    },
    {
     "name": "stdout",
     "output_type": "stream",
     "text": [
      "i=6  file='chunk4.pkl'\n"
     ]
    },
    {
     "name": "stderr",
     "output_type": "stream",
     "text": [
      " 12%|█▏        | 7/57 [59:34<8:38:04, 621.68s/it]"
     ]
    },
    {
     "name": "stdout",
     "output_type": "stream",
     "text": [
      "i=7  file='chunk5.pkl'\n"
     ]
    },
    {
     "name": "stderr",
     "output_type": "stream",
     "text": [
      " 14%|█▍        | 8/57 [1:12:34<9:08:45, 671.94s/it]"
     ]
    },
    {
     "name": "stdout",
     "output_type": "stream",
     "text": [
      "i=8  file='chunk6.pkl'\n"
     ]
    },
    {
     "name": "stderr",
     "output_type": "stream",
     "text": [
      " 16%|█▌        | 9/57 [1:31:11<10:48:55, 811.15s/it]"
     ]
    },
    {
     "name": "stdout",
     "output_type": "stream",
     "text": [
      "i=9  file='chunk7.pkl'\n"
     ]
    },
    {
     "name": "stderr",
     "output_type": "stream",
     "text": [
      " 18%|█▊        | 10/57 [1:41:58<9:55:39, 760.42s/it]"
     ]
    },
    {
     "name": "stdout",
     "output_type": "stream",
     "text": [
      "i=10  file='chunk8.pkl'\n"
     ]
    },
    {
     "name": "stderr",
     "output_type": "stream",
     "text": [
      " 19%|█▉        | 11/57 [1:51:51<9:03:42, 709.19s/it]"
     ]
    },
    {
     "name": "stdout",
     "output_type": "stream",
     "text": [
      "i=11  file='chunk9.pkl'\n"
     ]
    },
    {
     "name": "stderr",
     "output_type": "stream",
     "text": [
      "100%|██████████| 57/57 [2:01:27<00:00, 127.85s/it]  \n",
      "100%|██████████| 12/12 [04:01<00:00, 20.15s/it]\n"
     ]
    },
    {
     "name": "stdout",
     "output_type": "stream",
     "text": [
      "Total processed: 386542, Useful: 299634\n",
      "i=0\n",
      "Saving chunk 0 as C:\\Users\\iLabs_6\\Documents\\Tex\\allwithCBAS\\efd_0.pkl...\n",
      "Chunk 1 saved as C:\\Users\\iLabs_6\\Documents\\Tex\\allwithCBAS\\efd_0.pkl\n",
      "i=1\n",
      "Saving chunk 1 as C:\\Users\\iLabs_6\\Documents\\Tex\\allwithCBAS\\efd_1.pkl...\n",
      "Chunk 2 saved as C:\\Users\\iLabs_6\\Documents\\Tex\\allwithCBAS\\efd_1.pkl\n",
      "i=2\n",
      "Saving chunk 2 as C:\\Users\\iLabs_6\\Documents\\Tex\\allwithCBAS\\efd_2.pkl...\n",
      "Chunk 3 saved as C:\\Users\\iLabs_6\\Documents\\Tex\\allwithCBAS\\efd_2.pkl\n",
      "i=3\n",
      "Saving chunk 3 as C:\\Users\\iLabs_6\\Documents\\Tex\\allwithCBAS\\efd_3.pkl...\n",
      "Chunk 4 saved as C:\\Users\\iLabs_6\\Documents\\Tex\\allwithCBAS\\efd_3.pkl\n",
      "i=4\n",
      "Saving chunk 4 as C:\\Users\\iLabs_6\\Documents\\Tex\\allwithCBAS\\efd_4.pkl...\n",
      "Chunk 5 saved as C:\\Users\\iLabs_6\\Documents\\Tex\\allwithCBAS\\efd_4.pkl\n",
      "i=5\n",
      "Saving chunk 5 as C:\\Users\\iLabs_6\\Documents\\Tex\\allwithCBAS\\efd_5.pkl...\n",
      "Chunk 6 saved as C:\\Users\\iLabs_6\\Documents\\Tex\\allwithCBAS\\efd_5.pkl\n",
      "i=6\n",
      "Saving chunk 6 as C:\\Users\\iLabs_6\\Documents\\Tex\\allwithCBAS\\efd_6.pkl...\n",
      "Chunk 7 saved as C:\\Users\\iLabs_6\\Documents\\Tex\\allwithCBAS\\efd_6.pkl\n",
      "i=7\n",
      "Saving chunk 7 as C:\\Users\\iLabs_6\\Documents\\Tex\\allwithCBAS\\efd_7.pkl...\n",
      "Chunk 8 saved as C:\\Users\\iLabs_6\\Documents\\Tex\\allwithCBAS\\efd_7.pkl\n",
      "i=8\n",
      "Saving chunk 8 as C:\\Users\\iLabs_6\\Documents\\Tex\\allwithCBAS\\efd_8.pkl...\n",
      "Chunk 9 saved as C:\\Users\\iLabs_6\\Documents\\Tex\\allwithCBAS\\efd_8.pkl\n",
      "i=9\n",
      "Saving chunk 9 as C:\\Users\\iLabs_6\\Documents\\Tex\\allwithCBAS\\efd_9.pkl...\n",
      "Chunk 10 saved as C:\\Users\\iLabs_6\\Documents\\Tex\\allwithCBAS\\efd_9.pkl\n",
      "i=10\n",
      "Saving chunk 10 as C:\\Users\\iLabs_6\\Documents\\Tex\\allwithCBAS\\efd_10.pkl...\n",
      "Chunk 11 saved as C:\\Users\\iLabs_6\\Documents\\Tex\\allwithCBAS\\efd_10.pkl\n",
      "i=11\n",
      "Saving chunk 11 as C:\\Users\\iLabs_6\\Documents\\Tex\\allwithCBAS\\efd_11.pkl...\n",
      "Chunk 12 saved as C:\\Users\\iLabs_6\\Documents\\Tex\\allwithCBAS\\efd_11.pkl\n",
      "i=12\n",
      "Saving chunk 12 as C:\\Users\\iLabs_6\\Documents\\Tex\\allwithCBAS\\efd_12.pkl...\n",
      "Chunk 13 saved as C:\\Users\\iLabs_6\\Documents\\Tex\\allwithCBAS\\efd_12.pkl\n",
      "i=13\n",
      "Saving chunk 13 as C:\\Users\\iLabs_6\\Documents\\Tex\\allwithCBAS\\efd_13.pkl...\n",
      "Chunk 14 saved as C:\\Users\\iLabs_6\\Documents\\Tex\\allwithCBAS\\efd_13.pkl\n",
      "i=14\n",
      "Saving chunk 14 as C:\\Users\\iLabs_6\\Documents\\Tex\\allwithCBAS\\efd_14.pkl...\n",
      "Chunk 15 saved as C:\\Users\\iLabs_6\\Documents\\Tex\\allwithCBAS\\efd_14.pkl\n",
      "i=15\n",
      "Saving chunk 15 as C:\\Users\\iLabs_6\\Documents\\Tex\\allwithCBAS\\efd_15.pkl...\n",
      "Chunk 16 saved as C:\\Users\\iLabs_6\\Documents\\Tex\\allwithCBAS\\efd_15.pkl\n",
      "i=16\n",
      "Saving chunk 16 as C:\\Users\\iLabs_6\\Documents\\Tex\\allwithCBAS\\efd_16.pkl...\n",
      "Chunk 17 saved as C:\\Users\\iLabs_6\\Documents\\Tex\\allwithCBAS\\efd_16.pkl\n",
      "i=17\n",
      "Saving chunk 17 as C:\\Users\\iLabs_6\\Documents\\Tex\\allwithCBAS\\efd_17.pkl...\n",
      "Chunk 18 saved as C:\\Users\\iLabs_6\\Documents\\Tex\\allwithCBAS\\efd_17.pkl\n",
      "All 18 chunks have been saved successfully.\n"
     ]
    }
   ],
   "source": [
    "import itertools\n",
    "archive= r\"C:\\Users\\iLabs_6\\Documents\\Tex\\allwithCBAS\"\n",
    "# archive= r\"C:\\Users\\iLabs_6\\Documents\\Tex\\realtimetest\\efd\"\n",
    "taf_archive = r\"C:\\Users\\iLabs_6\\Documents\\Tex\\allwithCBAS\\taf_reports.pkl\"\n",
    "# taf_archive = r\"C:\\Users\\iLabs_6\\Documents\\Tex\\allwithCBAS226\\taf22.pkl\"\n",
    "# reg_archive = r\"C:\\Users\\iLabs_6\\Documents\\Tex\\allwithCBAS226\\regulations226\"\n",
    "# archive = r\"/Users/tex/Documents/Studie/SAT/Thesis/Code-data/out22\"\n",
    "\n",
    "# taf_archive = r\"/Users/tex/Documents/Studie/SAT/Thesis/Code-data/out22\"\n",
    "with open(taf_archive, 'rb') as f:\n",
    "    taf_ar = pickle.load(f)\n",
    "#\n",
    "\n",
    "start_date = datetime(2023, 3, 1, 0, 0)\n",
    "end_date = datetime(2024, 2, 1, 0, 0)\n",
    "# start_date = datetime(2022, 6, 1, 0, 0)\n",
    "# end_date = datetime(2022, 7, 1, 0, 0)\n",
    "\n",
    "efd = get_efd_rf(archive, start_date, end_date, taf_reports=taf_ar, reg_reports=None, reload=True)\n"
   ]
  },
  {
   "cell_type": "code",
   "execution_count": 4,
   "metadata": {},
   "outputs": [
    {
     "name": "stdout",
     "output_type": "stream",
     "text": [
      "[('EGCC', 'EHAM', datetime.datetime(2023, 3, 6, 16, 0)), ('LSZH', 'EHAM', datetime.datetime(2023, 3, 9, 12, 35)), ('LSZH', 'EHAM', datetime.datetime(2023, 3, 19, 17, 15)), ('LOWW', 'EHAM', datetime.datetime(2023, 3, 3, 17, 45)), ('EIDW', 'EHAM', datetime.datetime(2023, 3, 17, 16, 20)), ('EDDH', 'EHAM', datetime.datetime(2023, 3, 25, 14, 30)), ('ESSA', 'EHAM', datetime.datetime(2023, 3, 1, 7, 15)), ('ESSA', 'EHAM', datetime.datetime(2023, 3, 7, 7, 15)), ('ESSA', 'EHAM', datetime.datetime(2023, 3, 22, 7, 15)), ('ESSA', 'EHAM', datetime.datetime(2023, 3, 24, 7, 15))]\n",
      "89908\n",
      "[datetime.date(2023, 3, 1), datetime.date(2023, 3, 2), datetime.date(2023, 3, 3), datetime.date(2023, 3, 4), datetime.date(2023, 3, 5), datetime.date(2023, 3, 6), datetime.date(2023, 3, 7), datetime.date(2023, 3, 8), datetime.date(2023, 3, 9), datetime.date(2023, 3, 10), datetime.date(2023, 3, 11), datetime.date(2023, 3, 12), datetime.date(2023, 3, 13), datetime.date(2023, 3, 14), datetime.date(2023, 3, 15), datetime.date(2023, 3, 16), datetime.date(2023, 3, 17), datetime.date(2023, 3, 18), datetime.date(2023, 3, 19), datetime.date(2023, 3, 20), datetime.date(2023, 3, 21), datetime.date(2023, 3, 22), datetime.date(2023, 3, 23), datetime.date(2023, 3, 24), datetime.date(2023, 3, 25), datetime.date(2023, 3, 26), datetime.date(2023, 3, 27), datetime.date(2023, 3, 28), datetime.date(2023, 3, 29), datetime.date(2023, 3, 30), datetime.date(2023, 3, 31), datetime.date(2023, 4, 1), datetime.date(2023, 4, 2), datetime.date(2023, 4, 3), datetime.date(2023, 4, 4), datetime.date(2023, 4, 5), datetime.date(2023, 4, 6), datetime.date(2023, 4, 7), datetime.date(2023, 4, 8), datetime.date(2023, 4, 9), datetime.date(2023, 4, 10), datetime.date(2023, 4, 11), datetime.date(2023, 4, 12), datetime.date(2023, 4, 13), datetime.date(2023, 4, 14), datetime.date(2023, 4, 15), datetime.date(2023, 4, 16), datetime.date(2023, 4, 17), datetime.date(2023, 4, 18), datetime.date(2023, 4, 19), datetime.date(2023, 4, 20), datetime.date(2023, 4, 21), datetime.date(2023, 4, 22), datetime.date(2023, 4, 23), datetime.date(2023, 4, 24), datetime.date(2023, 4, 25), datetime.date(2023, 4, 26), datetime.date(2023, 4, 27), datetime.date(2023, 4, 28), datetime.date(2023, 4, 29), datetime.date(2023, 4, 30), datetime.date(2023, 5, 1), datetime.date(2023, 5, 2), datetime.date(2023, 5, 3), datetime.date(2023, 5, 4), datetime.date(2023, 5, 5), datetime.date(2023, 5, 6), datetime.date(2023, 5, 7), datetime.date(2023, 5, 8), datetime.date(2023, 5, 9), datetime.date(2023, 5, 10), datetime.date(2023, 5, 11), datetime.date(2023, 5, 12), datetime.date(2023, 5, 13), datetime.date(2023, 5, 14), datetime.date(2023, 5, 15), datetime.date(2023, 5, 16), datetime.date(2023, 5, 17), datetime.date(2023, 5, 18), datetime.date(2023, 5, 19), datetime.date(2023, 5, 20), datetime.date(2023, 5, 21), datetime.date(2023, 5, 22), datetime.date(2023, 5, 23), datetime.date(2023, 5, 24), datetime.date(2023, 5, 25), datetime.date(2023, 5, 26), datetime.date(2023, 5, 27), datetime.date(2023, 5, 28), datetime.date(2023, 5, 29), datetime.date(2023, 5, 30), datetime.date(2023, 5, 31), datetime.date(2023, 6, 1), datetime.date(2023, 6, 2), datetime.date(2023, 6, 3), datetime.date(2023, 6, 4), datetime.date(2023, 6, 5), datetime.date(2023, 6, 6), datetime.date(2023, 6, 7), datetime.date(2023, 6, 8), datetime.date(2023, 6, 9), datetime.date(2023, 6, 10), datetime.date(2023, 6, 11), datetime.date(2023, 6, 12), datetime.date(2023, 6, 13), datetime.date(2023, 6, 14), datetime.date(2023, 6, 15), datetime.date(2023, 6, 16), datetime.date(2023, 6, 17), datetime.date(2023, 6, 18), datetime.date(2023, 6, 19), datetime.date(2023, 6, 20), datetime.date(2023, 6, 21), datetime.date(2023, 6, 22), datetime.date(2023, 6, 23), datetime.date(2023, 6, 24), datetime.date(2023, 6, 25), datetime.date(2023, 6, 26), datetime.date(2023, 6, 27), datetime.date(2023, 6, 28), datetime.date(2023, 6, 29), datetime.date(2023, 6, 30), datetime.date(2023, 7, 1), datetime.date(2023, 7, 2), datetime.date(2023, 7, 3), datetime.date(2023, 7, 4), datetime.date(2023, 7, 5), datetime.date(2023, 7, 6), datetime.date(2023, 7, 7), datetime.date(2023, 7, 8), datetime.date(2023, 7, 9), datetime.date(2023, 7, 10), datetime.date(2023, 7, 11), datetime.date(2023, 7, 12), datetime.date(2023, 7, 13), datetime.date(2023, 7, 14), datetime.date(2023, 7, 15), datetime.date(2023, 7, 16), datetime.date(2023, 7, 17), datetime.date(2023, 7, 18), datetime.date(2023, 7, 19), datetime.date(2023, 7, 20), datetime.date(2023, 7, 21), datetime.date(2023, 7, 22), datetime.date(2023, 7, 23), datetime.date(2023, 7, 24), datetime.date(2023, 7, 25), datetime.date(2023, 7, 26), datetime.date(2023, 7, 27), datetime.date(2023, 7, 28), datetime.date(2023, 7, 29), datetime.date(2023, 7, 30), datetime.date(2023, 7, 31), datetime.date(2023, 8, 1), datetime.date(2023, 8, 2), datetime.date(2023, 8, 3), datetime.date(2023, 8, 4), datetime.date(2023, 8, 5), datetime.date(2023, 8, 6), datetime.date(2023, 8, 7), datetime.date(2023, 8, 8), datetime.date(2023, 8, 9), datetime.date(2023, 8, 10), datetime.date(2023, 8, 11), datetime.date(2023, 8, 12), datetime.date(2023, 8, 13), datetime.date(2023, 8, 14), datetime.date(2023, 8, 15), datetime.date(2023, 8, 16), datetime.date(2023, 8, 17), datetime.date(2023, 8, 18), datetime.date(2023, 8, 19), datetime.date(2023, 8, 20), datetime.date(2023, 8, 21), datetime.date(2023, 8, 22), datetime.date(2023, 8, 23), datetime.date(2023, 8, 24), datetime.date(2023, 8, 25), datetime.date(2023, 8, 26), datetime.date(2023, 8, 27), datetime.date(2023, 8, 28), datetime.date(2023, 8, 29), datetime.date(2023, 8, 30), datetime.date(2023, 8, 31), datetime.date(2023, 9, 1), datetime.date(2023, 9, 2), datetime.date(2023, 9, 3), datetime.date(2023, 9, 4), datetime.date(2023, 9, 5), datetime.date(2023, 9, 6), datetime.date(2023, 9, 7), datetime.date(2023, 9, 8), datetime.date(2023, 9, 9), datetime.date(2023, 9, 10), datetime.date(2023, 9, 11), datetime.date(2023, 9, 12), datetime.date(2023, 9, 13), datetime.date(2023, 9, 14), datetime.date(2023, 9, 15), datetime.date(2023, 9, 16), datetime.date(2023, 9, 17), datetime.date(2023, 9, 18), datetime.date(2023, 9, 19), datetime.date(2023, 9, 20), datetime.date(2023, 9, 21), datetime.date(2023, 9, 22), datetime.date(2023, 9, 23), datetime.date(2023, 9, 24), datetime.date(2023, 9, 25), datetime.date(2023, 9, 26), datetime.date(2023, 9, 27), datetime.date(2023, 9, 28), datetime.date(2023, 9, 29), datetime.date(2023, 9, 30), datetime.date(2023, 10, 1), datetime.date(2023, 10, 2), datetime.date(2023, 10, 3), datetime.date(2023, 10, 4), datetime.date(2023, 10, 5), datetime.date(2023, 10, 6), datetime.date(2023, 10, 7), datetime.date(2023, 10, 8), datetime.date(2023, 10, 9), datetime.date(2023, 10, 10), datetime.date(2023, 10, 11), datetime.date(2023, 10, 12), datetime.date(2023, 10, 13), datetime.date(2023, 10, 14), datetime.date(2023, 10, 15), datetime.date(2023, 10, 16), datetime.date(2023, 10, 17), datetime.date(2023, 10, 18), datetime.date(2023, 10, 19), datetime.date(2023, 10, 20), datetime.date(2023, 10, 21), datetime.date(2023, 10, 22), datetime.date(2023, 10, 23), datetime.date(2023, 10, 24), datetime.date(2023, 10, 25), datetime.date(2023, 10, 26), datetime.date(2023, 10, 27), datetime.date(2023, 10, 28), datetime.date(2023, 10, 29), datetime.date(2023, 10, 30), datetime.date(2023, 10, 31), datetime.date(2023, 11, 1), datetime.date(2023, 11, 2), datetime.date(2023, 11, 3), datetime.date(2023, 11, 4), datetime.date(2023, 11, 5), datetime.date(2023, 11, 6), datetime.date(2023, 11, 7), datetime.date(2023, 11, 8), datetime.date(2023, 11, 9), datetime.date(2023, 11, 10), datetime.date(2023, 11, 11), datetime.date(2023, 11, 12), datetime.date(2023, 11, 13), datetime.date(2023, 11, 14), datetime.date(2023, 11, 15), datetime.date(2023, 11, 16), datetime.date(2023, 11, 17), datetime.date(2023, 11, 18), datetime.date(2023, 11, 19), datetime.date(2023, 11, 20), datetime.date(2023, 11, 21), datetime.date(2023, 11, 22), datetime.date(2023, 11, 23), datetime.date(2023, 11, 24), datetime.date(2023, 11, 25), datetime.date(2023, 11, 26), datetime.date(2023, 11, 27), datetime.date(2023, 11, 28), datetime.date(2023, 11, 29), datetime.date(2023, 11, 30), datetime.date(2023, 12, 1), datetime.date(2023, 12, 2), datetime.date(2023, 12, 3), datetime.date(2023, 12, 4), datetime.date(2023, 12, 5), datetime.date(2023, 12, 6), datetime.date(2023, 12, 7), datetime.date(2023, 12, 8), datetime.date(2023, 12, 9), datetime.date(2023, 12, 10), datetime.date(2023, 12, 11), datetime.date(2023, 12, 12), datetime.date(2023, 12, 13), datetime.date(2023, 12, 14), datetime.date(2023, 12, 15), datetime.date(2023, 12, 16), datetime.date(2023, 12, 17), datetime.date(2023, 12, 18), datetime.date(2023, 12, 19), datetime.date(2023, 12, 20), datetime.date(2023, 12, 21), datetime.date(2023, 12, 22), datetime.date(2023, 12, 23), datetime.date(2023, 12, 24), datetime.date(2023, 12, 25), datetime.date(2023, 12, 26), datetime.date(2023, 12, 27), datetime.date(2023, 12, 28), datetime.date(2023, 12, 29), datetime.date(2023, 12, 30), datetime.date(2023, 12, 31), datetime.date(2024, 1, 1), datetime.date(2024, 1, 2), datetime.date(2024, 1, 3), datetime.date(2024, 1, 4), datetime.date(2024, 1, 5), datetime.date(2024, 1, 6), datetime.date(2024, 1, 7), datetime.date(2024, 1, 8), datetime.date(2024, 1, 9), datetime.date(2024, 1, 10), datetime.date(2024, 1, 11), datetime.date(2024, 1, 12), datetime.date(2024, 1, 13), datetime.date(2024, 1, 14), datetime.date(2024, 1, 15), datetime.date(2024, 1, 16), datetime.date(2024, 1, 17), datetime.date(2024, 1, 18), datetime.date(2024, 1, 19), datetime.date(2024, 1, 20), datetime.date(2024, 1, 21), datetime.date(2024, 1, 22), datetime.date(2024, 1, 23), datetime.date(2024, 1, 24), datetime.date(2024, 1, 25), datetime.date(2024, 1, 26), datetime.date(2024, 1, 27), datetime.date(2024, 1, 28), datetime.date(2024, 1, 29), datetime.date(2024, 1, 30), datetime.date(2024, 1, 31)]\n"
     ]
    }
   ],
   "source": [
    "keys_list = list(efd.keys())\n",
    "print(keys_list[:10])\n",
    "print(len(efd.keys()))\n",
    "unique_days = sorted({key[2].date() for key in efd.keys()})\n",
    "print(unique_days)"
   ]
  },
  {
   "cell_type": "code",
   "execution_count": 9,
   "metadata": {},
   "outputs": [
    {
     "name": "stderr",
     "output_type": "stream",
     "text": [
      "C:\\Users\\iLabs_6\\AppData\\Local\\Temp\\ipykernel_20268\\3414748501.py:3: DtypeWarning: Columns (1417,1439,1461,1483,1505,1506,1527,1528,1549,1550,1571,1572,1593,1594,1615,1616,1637,1638,1659,1660,1681,1682,1703,1704,1725,1726,1747,1748,1769,1770,1791,1792,1813,1814,1835,1836,1857,1858) have mixed types. Specify dtype option on import or set low_memory=False.\n",
      "  extended_df = pd.read_csv(archive)\n"
     ]
    }
   ],
   "source": [
    "archive = r\"C:\\Users\\iLabs_6\\Documents\\Tex\\realtimetest\\extended-etot-5minRT.csv\"\n",
    "try:\n",
    "    extended_df = pd.read_csv(archive)\n",
    "    extended_df['distance'] = extended_df['distance'].astype(float)\n",
    "    extended_df['atfmdelay'] = extended_df['atfmdelay'].astype(float)\n",
    "    cols = extended_df.columns.tolist()\n",
    "    datetime_cols = ['ETOT', 'EOBT', 'ETA', 'cbasentry', 'TSAT', 'TOBT']\n",
    "    timedelta_cols =[col for col in extended_df.columns if 'CBAS' in col]\n",
    "    for col in datetime_cols:\n",
    "        extended_df[col] = pd.to_datetime(extended_df[col], errors='coerce')\n",
    "    for col in timedelta_cols:\n",
    "        extended_df[col] = pd.to_timedelta(extended_df[col], errors='coerce')\n",
    " \n",
    "except Exception as e:\n",
    "    print(f'{e=}')\n",
    "    extended_df = prepare_dataset_with_updates(efd, cap=capacity_df, horizon_hours=5, dt_minutes=5, taf_ar=taf_ar, save_ar= archive, mode='atot')\n"
   ]
  },
  {
   "cell_type": "code",
   "execution_count": 6,
   "metadata": {},
   "outputs": [
    {
     "name": "stdout",
     "output_type": "stream",
     "text": [
      "FlightDataset has been saved successfully. extended_ATOT_RT\n"
     ]
    }
   ],
   "source": [
    "import os\n",
    "output= r\"C:\\Users\\iLabs_6\\Documents\\Tex\\allwithCBAS\"\n",
    "\n",
    "modelname = 'extended_ETOT_RT11111'\n",
    "with open(os.path.join(output, modelname), 'wb') as f:  \n",
    "    pickle.dump(extended_df, f, protocol=pickle.HIGHEST_PROTOCOL)\n",
    "    print(f\"FlightDataset has been saved successfully. {modelname}\")\n",
    "\n"
   ]
  },
  {
   "cell_type": "code",
   "execution_count": 7,
   "metadata": {},
   "outputs": [
    {
     "data": {
      "text/plain": [
       "dict_keys(['EGLL', 'LFPG', 'EHAM', 'EDDF', 'LEMD', 'LEBL', 'LTFM', 'UUEE', 'EDDM', 'EGKK', 'LIRF', 'EIDW', 'LFPO', 'LOWW', 'LSZH', 'LPPT', 'EKCH', 'LEPA', 'EGCC', 'LIMC', 'ENGM', 'EGSS', 'EBBR', 'ESSA', 'LGAV', 'EDDL', 'UUWW', 'EFHK', 'LEMG', 'ULLI', 'EPWA', 'EGGW', 'LSGG', 'LKPR', 'EDDH', 'LHBP', 'LTBA', 'LEAL', 'EGPH', 'LROP', 'LFMN', 'LIME', 'LPPR', 'EDDS', 'EGBB', 'EDDK', 'LFLL'])"
      ]
     },
     "execution_count": 7,
     "metadata": {},
     "output_type": "execute_result"
    }
   ],
   "source": [
    "taf_ar.keys()"
   ]
  },
  {
   "cell_type": "code",
   "execution_count": 10,
   "metadata": {},
   "outputs": [
    {
     "name": "stdout",
     "output_type": "stream",
     "text": [
      "           distance                           ETOT  \\\n",
      "count   6671.000000                           6671   \n",
      "mean    9502.024002  2024-03-13 12:56:45.735272192   \n",
      "min        0.000000            2024-03-01 03:21:00   \n",
      "25%     4949.190326            2024-03-07 09:37:30   \n",
      "50%     9693.166957            2024-03-13 14:00:00   \n",
      "75%    13801.321265            2024-03-19 16:05:00   \n",
      "max    17013.465682            2024-03-25 21:20:00   \n",
      "std     4442.082250                            NaN   \n",
      "\n",
      "                                EOBT                            ETA  \\\n",
      "count                           6671                           6671   \n",
      "mean   2024-03-13 12:42:02.689251840  2024-03-13 14:17:17.187827968   \n",
      "min              2024-03-01 03:01:00            2024-03-01 03:58:00   \n",
      "25%              2024-03-07 09:20:00            2024-03-07 11:23:00   \n",
      "50%              2024-03-13 13:50:00            2024-03-13 15:09:00   \n",
      "75%              2024-03-19 15:47:30            2024-03-19 17:32:30   \n",
      "max              2024-03-25 21:05:00            2024-03-25 22:17:00   \n",
      "std                              NaN                            NaN   \n",
      "\n",
      "          taxitime  regulations    atfmdelay                      cbasentry  \\\n",
      "count  6671.000000          0.0  3572.000000                           6671   \n",
      "mean     14.717434          NaN    16.708007  2024-03-13 13:56:51.505921280   \n",
      "min       7.000000          NaN     0.000000            2024-03-01 03:42:50   \n",
      "25%      11.000000          NaN     0.000000            2024-03-07 11:01:31   \n",
      "50%      15.000000          NaN     9.000000            2024-03-13 14:50:42   \n",
      "75%      17.000000          NaN    17.000000            2024-03-19 17:11:29   \n",
      "max      30.000000          NaN   515.000000            2024-03-25 21:57:25   \n",
      "std       4.044549          NaN    32.811275                            NaN   \n",
      "\n",
      "                                TSAT                           TOBT  ...  \\\n",
      "count                           4402                           4409  ...   \n",
      "mean   2024-03-13 11:41:11.204907008  2024-03-13 11:41:25.757541376  ...   \n",
      "min              2024-03-01 03:00:01            2024-03-01 03:00:01  ...   \n",
      "25%       2024-03-07 09:00:18.500000            2024-03-07 08:05:00  ...   \n",
      "50%              2024-03-13 13:03:00            2024-03-13 13:03:00  ...   \n",
      "75%    2024-03-19 14:01:07.249999872            2024-03-19 14:02:00  ...   \n",
      "max              2024-03-25 21:01:00            2024-03-25 21:01:00  ...   \n",
      "std                              NaN                            NaN  ...   \n",
      "\n",
      "       offblock_Tmin_115  wspeed_Tmin_115  wdirec_Tmin_115  wguts_Tmin_115  \\\n",
      "count                4.0         4.000000         4.000000             4.0   \n",
      "mean                 1.0        11.000000       212.500000             0.0   \n",
      "min                  1.0         8.000000         0.000000             0.0   \n",
      "25%                  1.0         8.000000       127.500000             0.0   \n",
      "50%                  1.0         9.000000       255.000000             0.0   \n",
      "75%                  1.0        12.000000       340.000000             0.0   \n",
      "max                  1.0        18.000000       340.000000             0.0   \n",
      "std                  0.0         4.760952       162.762608             0.0   \n",
      "\n",
      "       fltstate_SI_Tmin_115  fltstate_FI_Tmin_115  fltstate_other_Tmin_115  \\\n",
      "count                   4.0                  4.00                     4.00   \n",
      "mean                    0.0                  0.25                     0.75   \n",
      "min                     0.0                  0.00                     0.00   \n",
      "25%                     0.0                  0.00                     0.75   \n",
      "50%                     0.0                  0.00                     1.00   \n",
      "75%                     0.0                  0.25                     1.00   \n",
      "max                     0.0                  1.00                     1.00   \n",
      "std                     0.0                  0.50                     0.50   \n",
      "\n",
      "       modeltyp_ACT_Tmin_115  modeltyp_CAL_Tmin_115  modeltyp_EST_Tmin_115  \n",
      "count                   4.00                    4.0                   4.00  \n",
      "mean                    0.75                    0.0                   0.25  \n",
      "min                     0.00                    0.0                   0.00  \n",
      "25%                     0.75                    0.0                   0.00  \n",
      "50%                     1.00                    0.0                   0.00  \n",
      "75%                     1.00                    0.0                   0.25  \n",
      "max                     1.00                    0.0                   1.00  \n",
      "std                     0.50                    0.0                   0.50  \n",
      "\n",
      "[8 rows x 1777 columns]\n"
     ]
    }
   ],
   "source": [
    "print(f'{extended_df.describe()}')"
   ]
  },
  {
   "cell_type": "code",
   "execution_count": null,
   "metadata": {},
   "outputs": [],
   "source": []
  }
 ],
 "metadata": {
  "kernelspec": {
   "display_name": "texml",
   "language": "python",
   "name": "python3"
  },
  "language_info": {
   "codemirror_mode": {
    "name": "ipython",
    "version": 3
   },
   "file_extension": ".py",
   "mimetype": "text/x-python",
   "name": "python",
   "nbconvert_exporter": "python",
   "pygments_lexer": "ipython3",
   "version": "3.12.3"
  }
 },
 "nbformat": 4,
 "nbformat_minor": 2
}
