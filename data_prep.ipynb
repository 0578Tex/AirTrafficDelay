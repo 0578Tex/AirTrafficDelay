{
 "cells": [
  {
   "cell_type": "code",
   "execution_count": 86,
   "metadata": {},
   "outputs": [
    {
     "name": "stdout",
     "output_type": "stream",
     "text": [
      "The autoreload extension is already loaded. To reload it, use:\n",
      "  %reload_ext autoreload\n"
     ]
    }
   ],
   "source": [
    "%load_ext autoreload\n",
    "%autoreload 2\n",
    "\n",
    "from DDR import process_ddr\n",
    "import pandas as pd\n",
    "import dill as pickle\n",
    "from datetime import datetime\n",
    "from data_prep import get_efd_rf"
   ]
  },
  {
   "cell_type": "code",
   "execution_count": 84,
   "metadata": {},
   "outputs": [],
   "source": [
    "archive = r\"C:\\Users\\iLabs_6\\Documents\\Tex\\allwithCBAS\\ddrunpacked_full2.csv\"\n",
    "capacity_df = pd.read_csv(archive)"
   ]
  },
  {
   "cell_type": "code",
   "execution_count": null,
   "metadata": {},
   "outputs": [
    {
     "data": {
      "text/html": [
       "<div>\n",
       "<style scoped>\n",
       "    .dataframe tbody tr th:only-of-type {\n",
       "        vertical-align: middle;\n",
       "    }\n",
       "\n",
       "    .dataframe tbody tr th {\n",
       "        vertical-align: top;\n",
       "    }\n",
       "\n",
       "    .dataframe thead th {\n",
       "        text-align: right;\n",
       "    }\n",
       "</style>\n",
       "<table border=\"1\" class=\"dataframe\">\n",
       "  <thead>\n",
       "    <tr style=\"text-align: right;\">\n",
       "      <th></th>\n",
       "      <th>Time</th>\n",
       "      <th>airport</th>\n",
       "      <th>capacity</th>\n",
       "    </tr>\n",
       "  </thead>\n",
       "  <tbody>\n",
       "    <tr>\n",
       "      <th>0</th>\n",
       "      <td>2023-06-23 09:15:00</td>\n",
       "      <td>LTBA</td>\n",
       "      <td>0.175000</td>\n",
       "    </tr>\n",
       "    <tr>\n",
       "      <th>1</th>\n",
       "      <td>2023-10-24 09:15:00</td>\n",
       "      <td>LTBA</td>\n",
       "      <td>0.175000</td>\n",
       "    </tr>\n",
       "    <tr>\n",
       "      <th>2</th>\n",
       "      <td>2023-09-03 13:45:00</td>\n",
       "      <td>LTBA</td>\n",
       "      <td>0.175000</td>\n",
       "    </tr>\n",
       "    <tr>\n",
       "      <th>3</th>\n",
       "      <td>2023-09-11 06:30:00</td>\n",
       "      <td>LPPT</td>\n",
       "      <td>0.151316</td>\n",
       "    </tr>\n",
       "    <tr>\n",
       "      <th>4</th>\n",
       "      <td>2023-08-03 18:45:00</td>\n",
       "      <td>LPPT</td>\n",
       "      <td>0.151316</td>\n",
       "    </tr>\n",
       "    <tr>\n",
       "      <th>...</th>\n",
       "      <td>...</td>\n",
       "      <td>...</td>\n",
       "      <td>...</td>\n",
       "    </tr>\n",
       "    <tr>\n",
       "      <th>2171087</th>\n",
       "      <td>2024-03-31 18:45:00</td>\n",
       "      <td>LFLL</td>\n",
       "      <td>0.000000</td>\n",
       "    </tr>\n",
       "    <tr>\n",
       "      <th>2171088</th>\n",
       "      <td>2024-03-31 19:00:00</td>\n",
       "      <td>LFLL</td>\n",
       "      <td>0.000000</td>\n",
       "    </tr>\n",
       "    <tr>\n",
       "      <th>2171089</th>\n",
       "      <td>2024-03-31 19:15:00</td>\n",
       "      <td>LFLL</td>\n",
       "      <td>0.000000</td>\n",
       "    </tr>\n",
       "    <tr>\n",
       "      <th>2171090</th>\n",
       "      <td>2024-03-31 19:30:00</td>\n",
       "      <td>LFLL</td>\n",
       "      <td>0.000000</td>\n",
       "    </tr>\n",
       "    <tr>\n",
       "      <th>2171091</th>\n",
       "      <td>2024-03-31 19:45:00</td>\n",
       "      <td>LFLL</td>\n",
       "      <td>0.000000</td>\n",
       "    </tr>\n",
       "  </tbody>\n",
       "</table>\n",
       "<p>2171092 rows × 3 columns</p>\n",
       "</div>"
      ],
      "text/plain": [
       "                        Time airport  capacity\n",
       "0        2023-06-23 09:15:00    LTBA  0.175000\n",
       "1        2023-10-24 09:15:00    LTBA  0.175000\n",
       "2        2023-09-03 13:45:00    LTBA  0.175000\n",
       "3        2023-09-11 06:30:00    LPPT  0.151316\n",
       "4        2023-08-03 18:45:00    LPPT  0.151316\n",
       "...                      ...     ...       ...\n",
       "2171087  2024-03-31 18:45:00    LFLL  0.000000\n",
       "2171088  2024-03-31 19:00:00    LFLL  0.000000\n",
       "2171089  2024-03-31 19:15:00    LFLL  0.000000\n",
       "2171090  2024-03-31 19:30:00    LFLL  0.000000\n",
       "2171091  2024-03-31 19:45:00    LFLL  0.000000\n",
       "\n",
       "[2171092 rows x 3 columns]"
      ]
     },
     "execution_count": 80,
     "metadata": {},
     "output_type": "execute_result"
    }
   ],
   "source": []
  },
  {
   "cell_type": "code",
   "execution_count": null,
   "metadata": {},
   "outputs": [
    {
     "name": "stdout",
     "output_type": "stream",
     "text": [
      "Loading chunk 0 from C:\\Users\\iLabs_6\\Documents\\Tex\\allwithCBAS\\efd_0.pkl...\n",
      "Chunk 0 loaded and combined.\n",
      "Loading chunk 1 from C:\\Users\\iLabs_6\\Documents\\Tex\\allwithCBAS\\efd_1.pkl...\n",
      "Chunk 1 loaded and combined.\n",
      "Loading chunk 2 from C:\\Users\\iLabs_6\\Documents\\Tex\\allwithCBAS\\efd_2.pkl...\n",
      "Chunk 2 loaded and combined.\n",
      "Loading chunk 3 from C:\\Users\\iLabs_6\\Documents\\Tex\\allwithCBAS\\efd_3.pkl...\n",
      "Chunk 3 loaded and combined.\n",
      "Loading chunk 4 from C:\\Users\\iLabs_6\\Documents\\Tex\\allwithCBAS\\efd_4.pkl...\n",
      "Chunk 4 loaded and combined.\n",
      "Loading chunk 5 from C:\\Users\\iLabs_6\\Documents\\Tex\\allwithCBAS\\efd_5.pkl...\n",
      "Chunk 5 loaded and combined.\n",
      "Loading chunk 6 from C:\\Users\\iLabs_6\\Documents\\Tex\\allwithCBAS\\efd_6.pkl...\n",
      "Chunk 6 loaded and combined.\n",
      "Loading chunk 7 from C:\\Users\\iLabs_6\\Documents\\Tex\\allwithCBAS\\efd_7.pkl...\n",
      "Chunk 7 loaded and combined.\n",
      "Loading chunk 8 from C:\\Users\\iLabs_6\\Documents\\Tex\\allwithCBAS\\efd_8.pkl...\n",
      "Chunk 8 loaded and combined.\n",
      "Loading chunk 9 from C:\\Users\\iLabs_6\\Documents\\Tex\\allwithCBAS\\efd_9.pkl...\n"
     ]
    }
   ],
   "source": [
    "import itertools\n",
    "archive= r\"C:\\Users\\iLabs_6\\Documents\\Tex\\allwithCBAS\"\n",
    "# archive= r\"C:\\Users\\iLabs_6\\Documents\\Tex\\realtimetest\\efd\"\n",
    "taf_archive = r\"C:\\Users\\iLabs_6\\Documents\\Tex\\allwithCBAS\\taf_reports.pkl\"\n",
    "# taf_archive = r\"C:\\Users\\iLabs_6\\Documents\\Tex\\allwithCBAS226\\taf22.pkl\"\n",
    "# reg_archive = r\"C:\\Users\\iLabs_6\\Documents\\Tex\\allwithCBAS226\\regulations226\"\n",
    "# archive = r\"/Users/tex/Documents/Studie/SAT/Thesis/Code-data/out22\"\n",
    "\n",
    "# taf_archive = r\"/Users/tex/Documents/Studie/SAT/Thesis/Code-data/out22\"\n",
    "with open(taf_archive, 'rb') as f:\n",
    "    taf_ar = pickle.load(f)\n",
    "#\n",
    "\n",
    "start_date = datetime(2024, 3, 1, 0, 0)\n",
    "end_date = datetime(2024, 4, 1, 0, 0)\n",
    "# start_date = datetime(2022, 6, 1, 0, 0)\n",
    "# end_date = datetime(2022, 7, 1, 0, 0)\n",
    "\n",
    "efd = get_efd_rf(archive, start_date, end_date, taf_reports=taf_ar, reg_reports=None)\n"
   ]
  },
  {
   "cell_type": "code",
   "execution_count": null,
   "metadata": {},
   "outputs": [],
   "source": [
    "efd.keys()"
   ]
  },
  {
   "cell_type": "code",
   "execution_count": null,
   "metadata": {},
   "outputs": [],
   "source": [
    "archive = r\"C:\\Users\\iLabs_6\\Documents\\Tex\\realtimetest\\extended-atot-5min-ko2.csv\"\n",
    "try:\n",
    "    extended_df = pd.read_csv(archive)\n",
    "    extended_df['distance'] = extended_df['distance'].astype(float)\n",
    "    extended_df['atfmdelay'] = extended_df['atfmdelay'].astype(float)\n",
    "    cols = extended_df.columns.tolist()\n",
    "    datetime_cols = ['ETOT', 'EOBT', 'ETA', 'cbasentry', 'TSAT', 'TOBT']\n",
    "    timedelta_cols =[col for col in extended_df.columns if 'CBAS' in col]\n",
    "    for col in datetime_cols:\n",
    "        extended_df[col] = pd.to_datetime(extended_df[col], errors='coerce')\n",
    "    for col in timedelta_cols:\n",
    "        extended_df[col] = pd.to_timedelta(extended_df[col], errors='coerce')\n",
    " \n",
    "except Exception as e:\n",
    "    print(f'{e=}')\n",
    "    extended_df = prepare_dataset_with_updates(efd, cap=capacity_df, horizon_hours=5, dt_minutes=5, taf_ar=taf_ar, save_ar= archive, mode='atot')\n"
   ]
  },
  {
   "cell_type": "code",
   "execution_count": null,
   "metadata": {},
   "outputs": [],
   "source": []
  }
 ],
 "metadata": {
  "kernelspec": {
   "display_name": "texml",
   "language": "python",
   "name": "python3"
  },
  "language_info": {
   "codemirror_mode": {
    "name": "ipython",
    "version": 3
   },
   "file_extension": ".py",
   "mimetype": "text/x-python",
   "name": "python",
   "nbconvert_exporter": "python",
   "pygments_lexer": "ipython3",
   "version": "3.12.3"
  }
 },
 "nbformat": 4,
 "nbformat_minor": 2
}
