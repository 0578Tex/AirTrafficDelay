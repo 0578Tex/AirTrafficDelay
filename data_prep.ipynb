{
 "cells": [
  {
   "cell_type": "code",
   "execution_count": 1,
   "metadata": {},
   "outputs": [],
   "source": [
    "%load_ext autoreload\n",
    "%autoreload 2\n",
    "\n",
    "from DDR import process_ddr\n",
    "import pandas as pd\n",
    "import dill as pickle\n",
    "from datetime import datetime\n",
    "from data_prep import get_efd_rf\n",
    "from updates import prepare_dataset_with_updates\n",
    "from tqdm import tqdm"
   ]
  },
  {
   "cell_type": "code",
   "execution_count": null,
   "metadata": {},
   "outputs": [],
   "source": [
    "archive = r\"C:\\Users\\iLabs_6\\Documents\\Tex\\allwithCBAS\\ddrunpacked_full2.csv\"\n",
    "capacity_df = pd.read_csv(archive)\n",
    "capacity_df"
   ]
  },
  {
   "cell_type": "code",
   "execution_count": null,
   "metadata": {},
   "outputs": [],
   "source": [
    "import itertools\n",
    "archive= r\"C:\\Users\\iLabs_6\\Documents\\Tex\\allwithCBAS\"\n",
    "\n",
    "taf_archive = r\"C:\\Users\\iLabs_6\\Documents\\Tex\\allwithCBAS\\taf_reports.pkl\"\n",
    "\n",
    "with open(taf_archive, 'rb') as f:\n",
    "    taf_ar = pickle.load(f)\n",
    "#\n",
    "\n",
    "start_date = datetime(2023, 3, 24, 0, 0)\n",
    "end_date = datetime(2023, 10, 28, 0, 0)\n",
    "\n",
    "\n",
    "efd = get_efd_rf(archive, start_date, end_date, taf_reports=taf_ar, reg_reports=None, reload=True)\n"
   ]
  },
  {
   "cell_type": "code",
   "execution_count": null,
   "metadata": {},
   "outputs": [],
   "source": [
    "archive = r\"C:\\Users\\iLabs_6\\Documents\\Tex\\realtimetest3\\newbaseline_atot2.csv\"\n",
    "try:\n",
    "    extended_df = pd.read_csv(archive)\n",
    "    extended_df['distance'] = extended_df['distance'].astype(float)\n",
    "    extended_df['atfmdelay'] = extended_df['atfmdelay'].astype(float)\n",
    "    cols = extended_df.columns.tolist()\n",
    "    datetime_cols = ['ETOT', 'EOBT', 'ETA', 'cbasentry', 'TSAT', 'TOBT']\n",
    "    timedelta_cols =[col for col in extended_df.columns if 'CBAS' in col]\n",
    "    for col in datetime_cols:\n",
    "        extended_df[col] = pd.to_datetime(extended_df[col], errors='coerce')\n",
    "    for col in timedelta_cols:\n",
    "        extended_df[col] = pd.to_timedelta(extended_df[col], errors='coerce')\n",
    " \n",
    "except Exception as e:\n",
    "    print(f'{e=}')\n",
    "    extended_df = prepare_dataset_with_updates(efd, cap=capacity_df, horizon_hours=5, dt_minutes=5, taf_ar=taf_ar, save_ar= archive, mode='atot')\n"
   ]
  },
  {
   "cell_type": "code",
   "execution_count": null,
   "metadata": {},
   "outputs": [],
   "source": [
    "import os\n",
    "output= r\"C:\\Users\\iLabs_6\\Documents\\Tex\\realtimetest3\"\n",
    "\n",
    "modelname = 'newbaseline_etot2'\n",
    "with open(os.path.join(output, modelname), 'wb') as f:  \n",
    "    pickle.dump(extended_df, f, protocol=pickle.HIGHEST_PROTOCOL)\n",
    "    print(f\"FlightDataset has been saved successfully. {modelname}\")\n",
    "\n"
   ]
  }
 ],
 "metadata": {
  "kernelspec": {
   "display_name": "texml",
   "language": "python",
   "name": "python3"
  },
  "language_info": {
   "codemirror_mode": {
    "name": "ipython",
    "version": 3
   },
   "file_extension": ".py",
   "mimetype": "text/x-python",
   "name": "python",
   "nbconvert_exporter": "python",
   "pygments_lexer": "ipython3",
   "version": "3.12.3"
  }
 },
 "nbformat": 4,
 "nbformat_minor": 2
}
