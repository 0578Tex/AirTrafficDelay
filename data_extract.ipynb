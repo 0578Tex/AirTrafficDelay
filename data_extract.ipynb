{
 "cells": [
  {
   "cell_type": "code",
   "execution_count": 2,
   "metadata": {},
   "outputs": [],
   "source": [
    "%load_ext autoreload\n",
    "%autoreload 2\n",
    "\n",
    "from flights import Flights\n",
    "import os\n",
    "import numpy as np\n",
    "import pickle\n",
    "from data_prep import merge_flights\n",
    "from efdreader import efd"
   ]
  },
  {
   "cell_type": "code",
   "execution_count": null,
   "metadata": {},
   "outputs": [],
   "source": [
    "\n",
    "\n",
    "# Define data archives\n",
    "efd_archive = r\"C:\\Users\\iLabs_6\\Documents\\Tex\\RT-EFD\"\n",
    "file_list = os.listdir(efd_archive)\n",
    "\n",
    "# Split the list into 12 chunks\n",
    "chunks = np.array_split(file_list, 12)\n",
    "\n",
    "def process_file(flight_file):\n",
    "    # Your code to process a single file\n",
    "    flights = Flights()\n",
    "    flight_manager = efd(efd_archive, flights, [flight_file])\n",
    "    return flight_manager\n",
    "\n",
    "for i, chunk in enumerate(chunks):\n",
    "\tprint(i)\n",
    "\n",
    "\t# try:\n",
    "\tflights = Flights()\n",
    "\tflight_manager = efd(efd_archive, flights, chunk)\n",
    "\n",
    "\t# if metar_reports and regulations:\n",
    "\t# \tmerged_flight_manager = merge_flights(flight_manager, update_weather=True, metar_reports=metar_reports, taf_reports=taf_reports, regulations=regulations)\n",
    "\t# else:\n",
    "\tmerged_flight_manager = merge_flights(flight_manager)\n",
    "\toutput = r'C:\\Users\\iLabs_6\\Documents\\Tex\\realtimetest3'\n",
    "\tchunkname = f'chunk{i}.pkl'\n",
    "\twith open(os.path.join(output, chunkname), 'wb') as f:  \n",
    "\t\tpickle.dump(merged_flight_manager, f, protocol=pickle.HIGHEST_PROTOCOL)\n",
    "\t\tprint(f\"FlightDataset has been saved successfully. {chunkname}\")\n",
    "\t# break\n",
    "\t# except Exception as e:\n",
    "\t# \tprint(f'chunk {chunk} failed because {e}')\n"
   ]
  }
 ],
 "metadata": {
  "kernelspec": {
   "display_name": "texml",
   "language": "python",
   "name": "python3"
  },
  "language_info": {
   "codemirror_mode": {
    "name": "ipython",
    "version": 3
   },
   "file_extension": ".py",
   "mimetype": "text/x-python",
   "name": "python",
   "nbconvert_exporter": "python",
   "pygments_lexer": "ipython3",
   "version": "3.12.3"
  }
 },
 "nbformat": 4,
 "nbformat_minor": 2
}
